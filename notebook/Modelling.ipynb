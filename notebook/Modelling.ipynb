{
 "cells": [
  {
   "cell_type": "code",
   "execution_count": 1,
   "id": "a9a5185d-49b1-41f5-b9cf-5c63ff1f373c",
   "metadata": {},
   "outputs": [],
   "source": [
    "import os\n",
    "import pandas as pd\n",
    "import matplotlib.pyplot as plt\n",
    "%matplotlib inline\n",
    "import seaborn as sns\n",
    "sns.set()"
   ]
  },
  {
   "cell_type": "code",
   "execution_count": 2,
   "id": "73a28ce7-a680-4572-8c4a-105191a87907",
   "metadata": {},
   "outputs": [
    {
     "data": {
      "text/plain": [
       "'d:\\\\bms-ad\\\\notebook'"
      ]
     },
     "execution_count": 2,
     "metadata": {},
     "output_type": "execute_result"
    }
   ],
   "source": [
    "os.getcwd()"
   ]
  },
  {
   "cell_type": "code",
   "execution_count": 3,
   "id": "7ce0db0a-1e1b-46d1-8c39-b9d63c9ce041",
   "metadata": {},
   "outputs": [],
   "source": [
    "os.chdir(\"D:\\Battery Management System\\FinalData\")"
   ]
  },
  {
   "cell_type": "code",
   "execution_count": 4,
   "id": "7d946cc3-cbec-4447-83e9-ac5e046f27d4",
   "metadata": {},
   "outputs": [],
   "source": [
    "df = pd.read_csv(\"data.csv\")"
   ]
  },
  {
   "cell_type": "code",
   "execution_count": 5,
   "id": "6771ef26-928a-40be-8699-4367ac24906f",
   "metadata": {},
   "outputs": [
    {
     "data": {
      "text/html": [
       "<div>\n",
       "<style scoped>\n",
       "    .dataframe tbody tr th:only-of-type {\n",
       "        vertical-align: middle;\n",
       "    }\n",
       "\n",
       "    .dataframe tbody tr th {\n",
       "        vertical-align: top;\n",
       "    }\n",
       "\n",
       "    .dataframe thead th {\n",
       "        text-align: right;\n",
       "    }\n",
       "</style>\n",
       "<table border=\"1\" class=\"dataframe\">\n",
       "  <thead>\n",
       "    <tr style=\"text-align: right;\">\n",
       "      <th></th>\n",
       "      <th>CellVoltage(V)</th>\n",
       "      <th>PackVoltage(V)</th>\n",
       "      <th>ChargingCurrent(mA)</th>\n",
       "      <th>DischargeCurrent(mA)</th>\n",
       "      <th>BatteryTemperature(C)</th>\n",
       "      <th>CellTemperature(C)</th>\n",
       "      <th>AmbientTemp(C)</th>\n",
       "      <th>coolingSysTemp(C)</th>\n",
       "      <th>stateOfCharge(SOC)</th>\n",
       "      <th>stateOfHealth(SOH)</th>\n",
       "      <th>stateOfPower(SOP)</th>\n",
       "      <th>internalResistance(ohm)</th>\n",
       "      <th>CycleCount</th>\n",
       "      <th>Velocity [km/h]</th>\n",
       "      <th>Elevation [m]</th>\n",
       "      <th>Throttle [%]</th>\n",
       "      <th>Motor Torque [Nm]</th>\n",
       "      <th>Longitudinal Acceleration [m/s^2]</th>\n",
       "      <th>Regenerative Braking Signal</th>\n",
       "      <th>Battery Voltage [V]</th>\n",
       "      <th>Battery Current [A]</th>\n",
       "      <th>SoC</th>\n",
       "      <th>Route/Area</th>\n",
       "      <th>Weather</th>\n",
       "      <th>isAnomaly</th>\n",
       "    </tr>\n",
       "  </thead>\n",
       "  <tbody>\n",
       "    <tr>\n",
       "      <th>178203</th>\n",
       "      <td>4.047842</td>\n",
       "      <td>3.296021</td>\n",
       "      <td>4.982696</td>\n",
       "      <td>4.947861</td>\n",
       "      <td>6.089983</td>\n",
       "      <td>5.062887</td>\n",
       "      <td>4.037276</td>\n",
       "      <td>6.193050</td>\n",
       "      <td>7.116465</td>\n",
       "      <td>4.910926</td>\n",
       "      <td>5.130434</td>\n",
       "      <td>4.256822</td>\n",
       "      <td>6.279121</td>\n",
       "      <td>89.09000</td>\n",
       "      <td>531.32</td>\n",
       "      <td>35.7400</td>\n",
       "      <td>2.45</td>\n",
       "      <td>-0.11000</td>\n",
       "      <td>0.0</td>\n",
       "      <td>367.90</td>\n",
       "      <td>-9.90000</td>\n",
       "      <td>0.240</td>\n",
       "      <td>Munich South</td>\n",
       "      <td>sunny</td>\n",
       "      <td>0.0</td>\n",
       "    </tr>\n",
       "    <tr>\n",
       "      <th>197774</th>\n",
       "      <td>-0.586237</td>\n",
       "      <td>1.503384</td>\n",
       "      <td>-0.589457</td>\n",
       "      <td>-3.244702</td>\n",
       "      <td>-1.894826</td>\n",
       "      <td>-2.973477</td>\n",
       "      <td>0.781135</td>\n",
       "      <td>-0.463871</td>\n",
       "      <td>-1.629051</td>\n",
       "      <td>1.706064</td>\n",
       "      <td>-4.605292</td>\n",
       "      <td>0.865503</td>\n",
       "      <td>-2.841037</td>\n",
       "      <td>0.00000</td>\n",
       "      <td>655.00</td>\n",
       "      <td>0.0000</td>\n",
       "      <td>0.00</td>\n",
       "      <td>-0.19000</td>\n",
       "      <td>0.0</td>\n",
       "      <td>350.00</td>\n",
       "      <td>-0.75000</td>\n",
       "      <td>0.240</td>\n",
       "      <td>Munich South</td>\n",
       "      <td>sunny</td>\n",
       "      <td>1.0</td>\n",
       "    </tr>\n",
       "    <tr>\n",
       "      <th>4981</th>\n",
       "      <td>6.215908</td>\n",
       "      <td>7.464094</td>\n",
       "      <td>5.155550</td>\n",
       "      <td>5.554747</td>\n",
       "      <td>6.614248</td>\n",
       "      <td>4.905543</td>\n",
       "      <td>5.186875</td>\n",
       "      <td>5.013925</td>\n",
       "      <td>7.910149</td>\n",
       "      <td>6.719078</td>\n",
       "      <td>3.934133</td>\n",
       "      <td>4.457972</td>\n",
       "      <td>3.892469</td>\n",
       "      <td>56.37658</td>\n",
       "      <td>478.00</td>\n",
       "      <td>30.2771</td>\n",
       "      <td>0.00</td>\n",
       "      <td>-0.11737</td>\n",
       "      <td>0.0</td>\n",
       "      <td>385.90</td>\n",
       "      <td>-4.06741</td>\n",
       "      <td>0.287</td>\n",
       "      <td>FTMRoute (2x)</td>\n",
       "      <td>cloudy</td>\n",
       "      <td>0.0</td>\n",
       "    </tr>\n",
       "    <tr>\n",
       "      <th>136757</th>\n",
       "      <td>4.959631</td>\n",
       "      <td>4.684296</td>\n",
       "      <td>4.832805</td>\n",
       "      <td>6.512804</td>\n",
       "      <td>3.559056</td>\n",
       "      <td>4.255499</td>\n",
       "      <td>5.802645</td>\n",
       "      <td>3.884699</td>\n",
       "      <td>4.809749</td>\n",
       "      <td>3.778744</td>\n",
       "      <td>5.561874</td>\n",
       "      <td>6.065035</td>\n",
       "      <td>5.418757</td>\n",
       "      <td>72.20000</td>\n",
       "      <td>576.17</td>\n",
       "      <td>30.5100</td>\n",
       "      <td>0.00</td>\n",
       "      <td>-0.30000</td>\n",
       "      <td>0.0</td>\n",
       "      <td>364.61</td>\n",
       "      <td>-5.88000</td>\n",
       "      <td>0.170</td>\n",
       "      <td>Munich Northeast</td>\n",
       "      <td>slightly cloudy</td>\n",
       "      <td>0.0</td>\n",
       "    </tr>\n",
       "    <tr>\n",
       "      <th>100447</th>\n",
       "      <td>5.983107</td>\n",
       "      <td>5.233629</td>\n",
       "      <td>5.599454</td>\n",
       "      <td>6.712345</td>\n",
       "      <td>4.223489</td>\n",
       "      <td>7.306331</td>\n",
       "      <td>5.591476</td>\n",
       "      <td>7.532852</td>\n",
       "      <td>4.919242</td>\n",
       "      <td>4.260985</td>\n",
       "      <td>4.095540</td>\n",
       "      <td>5.814113</td>\n",
       "      <td>4.725529</td>\n",
       "      <td>58.59000</td>\n",
       "      <td>482.27</td>\n",
       "      <td>42.8500</td>\n",
       "      <td>17.50</td>\n",
       "      <td>0.11000</td>\n",
       "      <td>0.0</td>\n",
       "      <td>370.04</td>\n",
       "      <td>-27.46000</td>\n",
       "      <td>0.124</td>\n",
       "      <td>Munich North</td>\n",
       "      <td>cloudy</td>\n",
       "      <td>0.0</td>\n",
       "    </tr>\n",
       "  </tbody>\n",
       "</table>\n",
       "</div>"
      ],
      "text/plain": [
       "        CellVoltage(V)  PackVoltage(V)  ChargingCurrent(mA)  \\\n",
       "178203        4.047842        3.296021             4.982696   \n",
       "197774       -0.586237        1.503384            -0.589457   \n",
       "4981          6.215908        7.464094             5.155550   \n",
       "136757        4.959631        4.684296             4.832805   \n",
       "100447        5.983107        5.233629             5.599454   \n",
       "\n",
       "        DischargeCurrent(mA)  BatteryTemperature(C)  CellTemperature(C)  \\\n",
       "178203              4.947861               6.089983            5.062887   \n",
       "197774             -3.244702              -1.894826           -2.973477   \n",
       "4981                5.554747               6.614248            4.905543   \n",
       "136757              6.512804               3.559056            4.255499   \n",
       "100447              6.712345               4.223489            7.306331   \n",
       "\n",
       "        AmbientTemp(C)  coolingSysTemp(C)  stateOfCharge(SOC)  \\\n",
       "178203        4.037276           6.193050            7.116465   \n",
       "197774        0.781135          -0.463871           -1.629051   \n",
       "4981          5.186875           5.013925            7.910149   \n",
       "136757        5.802645           3.884699            4.809749   \n",
       "100447        5.591476           7.532852            4.919242   \n",
       "\n",
       "        stateOfHealth(SOH)  stateOfPower(SOP)  internalResistance(ohm)  \\\n",
       "178203            4.910926           5.130434                 4.256822   \n",
       "197774            1.706064          -4.605292                 0.865503   \n",
       "4981              6.719078           3.934133                 4.457972   \n",
       "136757            3.778744           5.561874                 6.065035   \n",
       "100447            4.260985           4.095540                 5.814113   \n",
       "\n",
       "        CycleCount  Velocity [km/h]  Elevation [m]  Throttle [%]  \\\n",
       "178203    6.279121         89.09000         531.32       35.7400   \n",
       "197774   -2.841037          0.00000         655.00        0.0000   \n",
       "4981      3.892469         56.37658         478.00       30.2771   \n",
       "136757    5.418757         72.20000         576.17       30.5100   \n",
       "100447    4.725529         58.59000         482.27       42.8500   \n",
       "\n",
       "        Motor Torque [Nm]  Longitudinal Acceleration [m/s^2]  \\\n",
       "178203               2.45                           -0.11000   \n",
       "197774               0.00                           -0.19000   \n",
       "4981                 0.00                           -0.11737   \n",
       "136757               0.00                           -0.30000   \n",
       "100447              17.50                            0.11000   \n",
       "\n",
       "        Regenerative Braking Signal   Battery Voltage [V]  \\\n",
       "178203                           0.0               367.90   \n",
       "197774                           0.0               350.00   \n",
       "4981                             0.0               385.90   \n",
       "136757                           0.0               364.61   \n",
       "100447                           0.0               370.04   \n",
       "\n",
       "        Battery Current [A]    SoC        Route/Area          Weather  \\\n",
       "178203             -9.90000  0.240      Munich South            sunny   \n",
       "197774             -0.75000  0.240      Munich South            sunny   \n",
       "4981               -4.06741  0.287     FTMRoute (2x)           cloudy   \n",
       "136757             -5.88000  0.170  Munich Northeast  slightly cloudy   \n",
       "100447            -27.46000  0.124      Munich North           cloudy   \n",
       "\n",
       "        isAnomaly  \n",
       "178203        0.0  \n",
       "197774        1.0  \n",
       "4981          0.0  \n",
       "136757        0.0  \n",
       "100447        0.0  "
      ]
     },
     "execution_count": 5,
     "metadata": {},
     "output_type": "execute_result"
    }
   ],
   "source": [
    "pd.set_option('display.max_columns', None)\n",
    "df.sample(5)"
   ]
  },
  {
   "cell_type": "code",
   "execution_count": null,
   "id": "07a4df73-ec0c-4b6b-a6cc-0b70a25ffba4",
   "metadata": {},
   "outputs": [],
   "source": [
    "df.shape"
   ]
  },
  {
   "cell_type": "code",
   "execution_count": null,
   "id": "34b4552a-ec52-409f-8845-c4ac248cf03a",
   "metadata": {},
   "outputs": [],
   "source": [
    "df.describe()"
   ]
  },
  {
   "cell_type": "code",
   "execution_count": null,
   "id": "58c38b87-5790-425f-b7f6-3d26a82ce79f",
   "metadata": {},
   "outputs": [],
   "source": [
    "df.info()"
   ]
  },
  {
   "cell_type": "code",
   "execution_count": null,
   "id": "512621dd-c3c9-436d-bb72-70f2a0f6627e",
   "metadata": {},
   "outputs": [],
   "source": [
    "num = []\n",
    "char = []\n",
    "\n",
    "for i in df.columns:\n",
    "    if df[i].dtype != \"object\":\n",
    "        num.append(i)\n",
    "    else:\n",
    "        char.append(i)\n",
    "\n",
    "print(num)\n",
    "print(\"\\n\\n\")\n",
    "print(char)"
   ]
  },
  {
   "cell_type": "code",
   "execution_count": null,
   "id": "596fb749-7672-4dc4-9208-efc0fb01e703",
   "metadata": {},
   "outputs": [],
   "source": [
    "for i in num:\n",
    "    print(\"Column Name: \",i,'\\n',\"Std. Dev.\", round(df[i].std(), 4),'\\n\\n')"
   ]
  },
  {
   "cell_type": "code",
   "execution_count": null,
   "id": "5e571f2e-e400-47a4-bd2c-64eda267f9da",
   "metadata": {},
   "outputs": [],
   "source": [
    "for i in char:\n",
    "    print(df[i].value_counts(),\"\\n\\n\")"
   ]
  },
  {
   "cell_type": "markdown",
   "id": "e52498f3-fd4d-4a09-9aca-0721dda3b3b6",
   "metadata": {},
   "source": [
    "# Missing Values-- \n",
    "#### 1.49% missing value on selected columns\n",
    "#### Action: Dropping the rows, 1.49% is less compared to data volume"
   ]
  },
  {
   "cell_type": "code",
   "execution_count": null,
   "id": "33279dfb-960f-4cc7-83d4-0610ff1f75b8",
   "metadata": {},
   "outputs": [],
   "source": [
    " data = df.copy()\n",
    "# df = data.copy()"
   ]
  },
  {
   "cell_type": "code",
   "execution_count": null,
   "id": "d5dc0d32-e272-4b5e-955c-2a5cbabcdffc",
   "metadata": {},
   "outputs": [],
   "source": [
    "df.isnull().sum()"
   ]
  },
  {
   "cell_type": "code",
   "execution_count": null,
   "id": "3d08ec9e-7f77-468b-8668-44b4165e1fc8",
   "metadata": {},
   "outputs": [],
   "source": [
    "df.isnull().sum()/len(df)*100"
   ]
  },
  {
   "cell_type": "code",
   "execution_count": null,
   "id": "97985d56-75fa-44e8-b588-3e6bb9e31eb4",
   "metadata": {},
   "outputs": [],
   "source": [
    "df = df.dropna(axis = 0,subset=[\"Velocity [km/h]\"])\n",
    "df.isnull().sum()"
   ]
  },
  {
   "cell_type": "markdown",
   "id": "500ff580-d62e-44b6-8915-95e6bbb0558d",
   "metadata": {},
   "source": [
    "## Duplicated Value -- No duplicate values"
   ]
  },
  {
   "cell_type": "code",
   "execution_count": null,
   "id": "bd74ddcf-cab4-4085-bf64-9bce6dcbc4f3",
   "metadata": {},
   "outputs": [],
   "source": [
    "df.duplicated().sum()"
   ]
  },
  {
   "cell_type": "markdown",
   "id": "43537f63-1006-479e-aef2-8b94b39fac45",
   "metadata": {},
   "source": [
    "## Outliers"
   ]
  },
  {
   "cell_type": "code",
   "execution_count": null,
   "id": "5d0cb103-2bbc-4208-89a0-ec6cb8a5a39d",
   "metadata": {},
   "outputs": [],
   "source": [
    "sns.boxplot(data =df['CellVoltage(V)'])"
   ]
  },
  {
   "cell_type": "code",
   "execution_count": null,
   "id": "6e095feb-4288-47be-8702-0347e862896d",
   "metadata": {
    "scrolled": true
   },
   "outputs": [],
   "source": [
    "sns.boxplot(data =df['PackVoltage(V)'])"
   ]
  },
  {
   "cell_type": "code",
   "execution_count": null,
   "id": "7f2ee924-e556-4279-835d-a128846a46c1",
   "metadata": {
    "scrolled": true
   },
   "outputs": [],
   "source": [
    "sns.boxplot(data =df['ChargingCurrent(mA)'])"
   ]
  },
  {
   "cell_type": "code",
   "execution_count": null,
   "id": "066a52b9-811c-4717-b865-5df76d3b924e",
   "metadata": {
    "scrolled": true
   },
   "outputs": [],
   "source": [
    "sns.boxplot(data =df['DischargeCurrent(mA)'])"
   ]
  },
  {
   "cell_type": "code",
   "execution_count": null,
   "id": "62df1dcb-7d62-46ee-99fb-b6abcc4a0711",
   "metadata": {},
   "outputs": [],
   "source": [
    "sns.boxplot(data =df['Temperature(C)'])"
   ]
  },
  {
   "cell_type": "code",
   "execution_count": null,
   "id": "4f0d6d0f-dab5-453d-a618-f2182727239b",
   "metadata": {},
   "outputs": [],
   "source": [
    "sns.boxplot(data =df['CellTemperature(C)'])"
   ]
  },
  {
   "cell_type": "code",
   "execution_count": null,
   "id": "fcfd55f8-9c19-4e64-b639-501f600044c7",
   "metadata": {},
   "outputs": [],
   "source": [
    "sns.boxplot(data =df['AmbientTemp(C)'])"
   ]
  },
  {
   "cell_type": "code",
   "execution_count": null,
   "id": "11b38a0e-beec-4011-804e-dcd53ad6aa47",
   "metadata": {},
   "outputs": [],
   "source": [
    "sns.boxplot(data =df['coolingSysTemp(C)'])"
   ]
  },
  {
   "cell_type": "code",
   "execution_count": null,
   "id": "0c705514-cd24-4391-ba3f-659c24d85ec1",
   "metadata": {},
   "outputs": [],
   "source": [
    "sns.boxplot(data =df['stateOfCharge(SOC)'])"
   ]
  },
  {
   "cell_type": "code",
   "execution_count": null,
   "id": "aa2dfcc6-46cf-4ce5-aba2-c92b7cfc2c4b",
   "metadata": {},
   "outputs": [],
   "source": [
    "sns.boxplot(data =df['stateOfHealth(SOH)'])"
   ]
  },
  {
   "cell_type": "code",
   "execution_count": null,
   "id": "e6893ce8-eee5-4822-963c-2eb33800814a",
   "metadata": {},
   "outputs": [],
   "source": [
    "sns.boxplot(data =df['stateOfPower(SOP)'])"
   ]
  },
  {
   "cell_type": "code",
   "execution_count": 7,
   "id": "a9f6d3c2-4d44-475c-aaa2-0f910f5dcdf9",
   "metadata": {},
   "outputs": [
    {
     "data": {
      "text/plain": [
       "<Axes: ylabel='internalResistance(ohm)'>"
      ]
     },
     "execution_count": 7,
     "metadata": {},
     "output_type": "execute_result"
    },
    {
     "data": {
      "image/png": "[encoded data removed]",
      "text/plain": [
       "<Figure size 640x480 with 1 Axes>"
      ]
     },
     "metadata": {},
     "output_type": "display_data"
    }
   ],
   "source": [
    "sns.boxplot(data =df['internalResistance(ohm)'])"
   ]
  },
  {
   "cell_type": "code",
   "execution_count": null,
   "id": "4d69ca0b-782c-43b4-b6ca-c0715608c4ef",
   "metadata": {},
   "outputs": [],
   "source": [
    "sns.boxplot(data =df['CycleCount'])"
   ]
  },
  {
   "cell_type": "code",
   "execution_count": null,
   "id": "d13e8aae-fca8-4168-b55f-a645dcb60470",
   "metadata": {},
   "outputs": [],
   "source": [
    "sns.boxplot(data =df['Velocity [km/h]'])"
   ]
  },
  {
   "cell_type": "code",
   "execution_count": null,
   "id": "ee23f97f-62ef-46c5-b3a0-4ed7a1e4fd85",
   "metadata": {},
   "outputs": [],
   "source": [
    "sns.boxplot(data =df['Elevation [m]'])"
   ]
  },
  {
   "cell_type": "code",
   "execution_count": null,
   "id": "cbf57ede-f7c5-40c2-992b-0afaa6ff9091",
   "metadata": {},
   "outputs": [],
   "source": [
    "sns.boxplot(data =df['Throttle [%]'])"
   ]
  },
  {
   "cell_type": "code",
   "execution_count": null,
   "id": "6391c4e4-db1e-4d13-9d8c-63da18af5531",
   "metadata": {},
   "outputs": [],
   "source": [
    "sns.boxplot(data =df['Motor Torque [Nm]'])"
   ]
  },
  {
   "cell_type": "code",
   "execution_count": null,
   "id": "91890dc3-4a94-4da0-b395-cf92a4d36ca6",
   "metadata": {},
   "outputs": [],
   "source": [
    "sns.boxplot(data =df['Longitudinal Acceleration [m/s^2]'])"
   ]
  },
  {
   "cell_type": "code",
   "execution_count": null,
   "id": "ab2c141b-86a1-4fc3-88bc-42cf97d72721",
   "metadata": {},
   "outputs": [],
   "source": [
    "sns.boxplot(data =df['Regenerative Braking Signal '])"
   ]
  },
  {
   "cell_type": "code",
   "execution_count": null,
   "id": "1e1c83bc-ec58-4ea2-8cb1-e81834a0148e",
   "metadata": {},
   "outputs": [],
   "source": [
    "sns.boxplot(data =df['Battery Voltage [V]'])"
   ]
  },
  {
   "cell_type": "code",
   "execution_count": null,
   "id": "075d39cf-3b0a-46da-a029-209bd4629b2c",
   "metadata": {},
   "outputs": [],
   "source": [
    "sns.boxplot(data =df['Battery Current [A]'])"
   ]
  },
  {
   "cell_type": "code",
   "execution_count": null,
   "id": "fbb3e4d9-da08-4b5e-bb2a-6cddbfe0ebde",
   "metadata": {},
   "outputs": [],
   "source": [
    "sns.boxplot(data =df['SoC'])"
   ]
  },
  {
   "cell_type": "code",
   "execution_count": null,
   "id": "8456937a-1af2-486e-97f2-64a524bc0eae",
   "metadata": {},
   "outputs": [],
   "source": [
    "sns.kdeplot(df['CellVoltage(V)'])"
   ]
  },
  {
   "cell_type": "code",
   "execution_count": null,
   "id": "6c3a5613-7511-404f-b635-9a379ddc2671",
   "metadata": {},
   "outputs": [],
   "source": [
    "sns.kdeplot(df['PackVoltage(V)'])"
   ]
  },
  {
   "cell_type": "code",
   "execution_count": null,
   "id": "b0d7fe94-04f0-4952-839e-e37641a18a5b",
   "metadata": {},
   "outputs": [],
   "source": [
    "sns.kdeplot(df['ChargingCurrent(mA)'])"
   ]
  },
  {
   "cell_type": "code",
   "execution_count": null,
   "id": "92b95ddc-b481-43ed-9c82-dfac188f7c18",
   "metadata": {},
   "outputs": [],
   "source": [
    "sns.kdeplot(df['DischargeCurrent(mA)'])"
   ]
  },
  {
   "cell_type": "code",
   "execution_count": null,
   "id": "c95e57e6-2901-41c3-9085-fe21238fe28d",
   "metadata": {},
   "outputs": [],
   "source": [
    "sns.kdeplot(df['Temperature(C)'])"
   ]
  },
  {
   "cell_type": "code",
   "execution_count": null,
   "id": "91f92ce8-a133-4aaa-8c53-eb9e06762fc9",
   "metadata": {},
   "outputs": [],
   "source": [
    "sns.kdeplot(df['CellTemperature(C)'])"
   ]
  },
  {
   "cell_type": "code",
   "execution_count": null,
   "id": "17c92c64-4de1-4eaa-9e2c-72d7d0a42c48",
   "metadata": {},
   "outputs": [],
   "source": [
    "sns.kdeplot(df['AmbientTemp(C)'])"
   ]
  },
  {
   "cell_type": "code",
   "execution_count": null,
   "id": "cc4ccc70-992c-4f23-a609-27b4c4964952",
   "metadata": {},
   "outputs": [],
   "source": [
    "sns.kdeplot(df['coolingSysTemp(C)'])"
   ]
  },
  {
   "cell_type": "code",
   "execution_count": null,
   "id": "d3578fc5-9ef6-4ae9-9de5-ac4a0090e389",
   "metadata": {},
   "outputs": [],
   "source": [
    "sns.kdeplot(df['stateOfCharge(SOC)'])"
   ]
  },
  {
   "cell_type": "code",
   "execution_count": null,
   "id": "12386fc1-6e00-4408-9ad0-071e267731ad",
   "metadata": {},
   "outputs": [],
   "source": [
    "sns.kdeplot(df['stateOfHealth(SOH)'])"
   ]
  },
  {
   "cell_type": "code",
   "execution_count": null,
   "id": "711f7219-fda2-4b25-977c-184ab05a177a",
   "metadata": {},
   "outputs": [],
   "source": [
    "sns.kdeplot(df['stateOfPower(SOP)'])"
   ]
  },
  {
   "cell_type": "code",
   "execution_count": null,
   "id": "7f54b03c-12db-4f3b-90a4-23c0cd93afab",
   "metadata": {},
   "outputs": [],
   "source": [
    "sns.kdeplot(df['internalResistance(ohm)'])"
   ]
  },
  {
   "cell_type": "code",
   "execution_count": null,
   "id": "46bef0a8-01a3-483f-8bfc-a5e81d4ef7d3",
   "metadata": {},
   "outputs": [],
   "source": [
    "sns.kdeplot(df['CycleCount'])"
   ]
  },
  {
   "cell_type": "code",
   "execution_count": null,
   "id": "c04e44df-d3bb-4c02-8380-7025c2e552e3",
   "metadata": {},
   "outputs": [],
   "source": [
    "sns.kdeplot(df['Velocity [km/h]'])"
   ]
  },
  {
   "cell_type": "code",
   "execution_count": null,
   "id": "fa671aba-172b-4cc5-afeb-664fdb3f5b35",
   "metadata": {},
   "outputs": [],
   "source": [
    "sns.kdeplot(df['Elevation [m]'])"
   ]
  },
  {
   "cell_type": "code",
   "execution_count": null,
   "id": "9f2ea244-eeaa-4bcc-b40b-cef0d6aad711",
   "metadata": {},
   "outputs": [],
   "source": [
    "sns.kdeplot(df['Throttle [%]'])"
   ]
  },
  {
   "cell_type": "code",
   "execution_count": null,
   "id": "9b7f465d-6a3a-4b1d-9490-92ae73367a37",
   "metadata": {},
   "outputs": [],
   "source": [
    "sns.kdeplot(df['Motor Torque [Nm]'])"
   ]
  },
  {
   "cell_type": "code",
   "execution_count": null,
   "id": "37dbf3ff-2843-408b-86bb-9a1f519b6b19",
   "metadata": {},
   "outputs": [],
   "source": [
    "sns.kdeplot(df['Longitudinal Acceleration [m/s^2]'])"
   ]
  },
  {
   "cell_type": "code",
   "execution_count": null,
   "id": "47749956-8052-40cc-b8d7-f87ceb708a0e",
   "metadata": {},
   "outputs": [],
   "source": [
    "sns.kdeplot(df['Regenerative Braking Signal '])"
   ]
  },
  {
   "cell_type": "code",
   "execution_count": null,
   "id": "6f45b25c-608a-48d9-bb64-dba54ff60d58",
   "metadata": {},
   "outputs": [],
   "source": [
    "sns.kdeplot(df['Battery Voltage [V]'])"
   ]
  },
  {
   "cell_type": "code",
   "execution_count": null,
   "id": "d3304a42-6adb-4505-8e87-eedb31b58bbb",
   "metadata": {},
   "outputs": [],
   "source": [
    "sns.kdeplot(df['Battery Current [A]'])"
   ]
  },
  {
   "cell_type": "code",
   "execution_count": null,
   "id": "2ed711f2-e655-4c23-9cf5-02a221ba9b87",
   "metadata": {},
   "outputs": [],
   "source": [
    "sns.kdeplot(df['SoC'])"
   ]
  },
  {
   "cell_type": "raw",
   "id": "1e24f61d-8555-41bf-a2bb-a471b9c16a22",
   "metadata": {},
   "source": [
    "# Since the objective is detection of Anomaly, which can be greatly dependent on the outliers. Thus we are not removing outliers\n",
    "# For feature scaling we will use RobustScaler instead of StandardScaler or MinMaxScaler as it is more reliable in presence of outliers"
   ]
  },
  {
   "cell_type": "code",
   "execution_count": null,
   "id": "590da617-720d-45ce-ab95-e48893dc8ffd",
   "metadata": {},
   "outputs": [],
   "source": [
    "df.columns"
   ]
  },
  {
   "cell_type": "markdown",
   "id": "dcffc554-fb22-41d9-8546-90faac8ed80f",
   "metadata": {},
   "source": [
    "## Label Encoding"
   ]
  },
  {
   "cell_type": "code",
   "execution_count": 8,
   "id": "a083e52e-6b4c-4f50-8b08-2d4f6af9b141",
   "metadata": {},
   "outputs": [],
   "source": [
    "from sklearn.preprocessing import LabelEncoder"
   ]
  },
  {
   "cell_type": "code",
   "execution_count": 9,
   "id": "461170ef-5769-45c1-b6a3-93d31fbc7b30",
   "metadata": {},
   "outputs": [],
   "source": [
    "encoder = LabelEncoder()\n",
    "df['encodedWeather'] = encoder.fit_transform(df['Weather'])\n",
    "df['encodedArea'] = encoder.fit_transform(df['Route/Area'])"
   ]
  },
  {
   "cell_type": "code",
   "execution_count": 10,
   "id": "12bfaa52-f655-4486-9334-714661af187d",
   "metadata": {},
   "outputs": [
    {
     "data": {
      "text/html": [
       "<div>\n",
       "<style scoped>\n",
       "    .dataframe tbody tr th:only-of-type {\n",
       "        vertical-align: middle;\n",
       "    }\n",
       "\n",
       "    .dataframe tbody tr th {\n",
       "        vertical-align: top;\n",
       "    }\n",
       "\n",
       "    .dataframe thead th {\n",
       "        text-align: right;\n",
       "    }\n",
       "</style>\n",
       "<table border=\"1\" class=\"dataframe\">\n",
       "  <thead>\n",
       "    <tr style=\"text-align: right;\">\n",
       "      <th></th>\n",
       "      <th>CellVoltage(V)</th>\n",
       "      <th>PackVoltage(V)</th>\n",
       "      <th>ChargingCurrent(mA)</th>\n",
       "      <th>DischargeCurrent(mA)</th>\n",
       "      <th>BatteryTemperature(C)</th>\n",
       "      <th>CellTemperature(C)</th>\n",
       "      <th>AmbientTemp(C)</th>\n",
       "      <th>coolingSysTemp(C)</th>\n",
       "      <th>stateOfCharge(SOC)</th>\n",
       "      <th>stateOfHealth(SOH)</th>\n",
       "      <th>stateOfPower(SOP)</th>\n",
       "      <th>internalResistance(ohm)</th>\n",
       "      <th>CycleCount</th>\n",
       "      <th>Velocity [km/h]</th>\n",
       "      <th>Elevation [m]</th>\n",
       "      <th>Throttle [%]</th>\n",
       "      <th>Motor Torque [Nm]</th>\n",
       "      <th>Longitudinal Acceleration [m/s^2]</th>\n",
       "      <th>Regenerative Braking Signal</th>\n",
       "      <th>Battery Voltage [V]</th>\n",
       "      <th>Battery Current [A]</th>\n",
       "      <th>SoC</th>\n",
       "      <th>Route/Area</th>\n",
       "      <th>Weather</th>\n",
       "      <th>isAnomaly</th>\n",
       "      <th>encodedWeather</th>\n",
       "      <th>encodedArea</th>\n",
       "    </tr>\n",
       "  </thead>\n",
       "  <tbody>\n",
       "    <tr>\n",
       "      <th>0</th>\n",
       "      <td>3.401186</td>\n",
       "      <td>3.524853</td>\n",
       "      <td>5.482618</td>\n",
       "      <td>5.188095</td>\n",
       "      <td>4.536157</td>\n",
       "      <td>5.860263</td>\n",
       "      <td>2.350556</td>\n",
       "      <td>6.150173</td>\n",
       "      <td>5.196286</td>\n",
       "      <td>3.457591</td>\n",
       "      <td>4.912056</td>\n",
       "      <td>5.850692</td>\n",
       "      <td>5.676005</td>\n",
       "      <td>0.0</td>\n",
       "      <td>449.0</td>\n",
       "      <td>0.0</td>\n",
       "      <td>0.0</td>\n",
       "      <td>-0.32930</td>\n",
       "      <td>0.0</td>\n",
       "      <td>388.8</td>\n",
       "      <td>-19.06128</td>\n",
       "      <td>0.287</td>\n",
       "      <td>FTMRoute (2x)</td>\n",
       "      <td>cloudy</td>\n",
       "      <td>0.0</td>\n",
       "      <td>0</td>\n",
       "      <td>1</td>\n",
       "    </tr>\n",
       "    <tr>\n",
       "      <th>1</th>\n",
       "      <td>4.893316</td>\n",
       "      <td>5.723958</td>\n",
       "      <td>5.933192</td>\n",
       "      <td>6.116267</td>\n",
       "      <td>5.055512</td>\n",
       "      <td>5.375973</td>\n",
       "      <td>5.375452</td>\n",
       "      <td>4.836107</td>\n",
       "      <td>4.915610</td>\n",
       "      <td>5.929867</td>\n",
       "      <td>6.703837</td>\n",
       "      <td>4.109705</td>\n",
       "      <td>6.732446</td>\n",
       "      <td>0.0</td>\n",
       "      <td>449.0</td>\n",
       "      <td>0.0</td>\n",
       "      <td>0.0</td>\n",
       "      <td>-0.32930</td>\n",
       "      <td>0.0</td>\n",
       "      <td>388.8</td>\n",
       "      <td>-19.06128</td>\n",
       "      <td>0.287</td>\n",
       "      <td>FTMRoute (2x)</td>\n",
       "      <td>cloudy</td>\n",
       "      <td>0.0</td>\n",
       "      <td>0</td>\n",
       "      <td>1</td>\n",
       "    </tr>\n",
       "    <tr>\n",
       "      <th>2</th>\n",
       "      <td>4.370037</td>\n",
       "      <td>4.094304</td>\n",
       "      <td>5.374072</td>\n",
       "      <td>4.527477</td>\n",
       "      <td>4.546304</td>\n",
       "      <td>4.914817</td>\n",
       "      <td>6.500460</td>\n",
       "      <td>6.158534</td>\n",
       "      <td>4.517935</td>\n",
       "      <td>3.196650</td>\n",
       "      <td>4.086214</td>\n",
       "      <td>4.930393</td>\n",
       "      <td>4.151588</td>\n",
       "      <td>0.0</td>\n",
       "      <td>449.0</td>\n",
       "      <td>0.0</td>\n",
       "      <td>0.0</td>\n",
       "      <td>-0.35800</td>\n",
       "      <td>0.0</td>\n",
       "      <td>388.8</td>\n",
       "      <td>-18.86127</td>\n",
       "      <td>0.287</td>\n",
       "      <td>FTMRoute (2x)</td>\n",
       "      <td>cloudy</td>\n",
       "      <td>0.0</td>\n",
       "      <td>0</td>\n",
       "      <td>1</td>\n",
       "    </tr>\n",
       "    <tr>\n",
       "      <th>3</th>\n",
       "      <td>5.050531</td>\n",
       "      <td>5.703793</td>\n",
       "      <td>3.323107</td>\n",
       "      <td>6.996345</td>\n",
       "      <td>6.154863</td>\n",
       "      <td>5.192767</td>\n",
       "      <td>3.449812</td>\n",
       "      <td>4.990005</td>\n",
       "      <td>5.647987</td>\n",
       "      <td>6.555744</td>\n",
       "      <td>5.237919</td>\n",
       "      <td>5.107890</td>\n",
       "      <td>6.013420</td>\n",
       "      <td>0.0</td>\n",
       "      <td>449.0</td>\n",
       "      <td>0.0</td>\n",
       "      <td>0.0</td>\n",
       "      <td>-0.35235</td>\n",
       "      <td>0.0</td>\n",
       "      <td>388.8</td>\n",
       "      <td>-18.69031</td>\n",
       "      <td>0.287</td>\n",
       "      <td>FTMRoute (2x)</td>\n",
       "      <td>cloudy</td>\n",
       "      <td>0.0</td>\n",
       "      <td>0</td>\n",
       "      <td>1</td>\n",
       "    </tr>\n",
       "    <tr>\n",
       "      <th>4</th>\n",
       "      <td>5.957895</td>\n",
       "      <td>4.872928</td>\n",
       "      <td>5.697286</td>\n",
       "      <td>2.778545</td>\n",
       "      <td>3.734073</td>\n",
       "      <td>6.389655</td>\n",
       "      <td>6.920340</td>\n",
       "      <td>5.989292</td>\n",
       "      <td>5.379920</td>\n",
       "      <td>4.253591</td>\n",
       "      <td>3.684714</td>\n",
       "      <td>6.330491</td>\n",
       "      <td>4.316702</td>\n",
       "      <td>0.0</td>\n",
       "      <td>449.0</td>\n",
       "      <td>0.0</td>\n",
       "      <td>0.0</td>\n",
       "      <td>-0.34367</td>\n",
       "      <td>0.0</td>\n",
       "      <td>388.8</td>\n",
       "      <td>-18.64031</td>\n",
       "      <td>0.287</td>\n",
       "      <td>FTMRoute (2x)</td>\n",
       "      <td>cloudy</td>\n",
       "      <td>0.0</td>\n",
       "      <td>0</td>\n",
       "      <td>1</td>\n",
       "    </tr>\n",
       "  </tbody>\n",
       "</table>\n",
       "</div>"
      ],
      "text/plain": [
       "   CellVoltage(V)  PackVoltage(V)  ChargingCurrent(mA)  DischargeCurrent(mA)  \\\n",
       "0        3.401186        3.524853             5.482618              5.188095   \n",
       "1        4.893316        5.723958             5.933192              6.116267   \n",
       "2        4.370037        4.094304             5.374072              4.527477   \n",
       "3        5.050531        5.703793             3.323107              6.996345   \n",
       "4        5.957895        4.872928             5.697286              2.778545   \n",
       "\n",
       "   BatteryTemperature(C)  CellTemperature(C)  AmbientTemp(C)  \\\n",
       "0               4.536157            5.860263        2.350556   \n",
       "1               5.055512            5.375973        5.375452   \n",
       "2               4.546304            4.914817        6.500460   \n",
       "3               6.154863            5.192767        3.449812   \n",
       "4               3.734073            6.389655        6.920340   \n",
       "\n",
       "   coolingSysTemp(C)  stateOfCharge(SOC)  stateOfHealth(SOH)  \\\n",
       "0           6.150173            5.196286            3.457591   \n",
       "1           4.836107            4.915610            5.929867   \n",
       "2           6.158534            4.517935            3.196650   \n",
       "3           4.990005            5.647987            6.555744   \n",
       "4           5.989292            5.379920            4.253591   \n",
       "\n",
       "   stateOfPower(SOP)  internalResistance(ohm)  CycleCount  Velocity [km/h]  \\\n",
       "0           4.912056                 5.850692    5.676005              0.0   \n",
       "1           6.703837                 4.109705    6.732446              0.0   \n",
       "2           4.086214                 4.930393    4.151588              0.0   \n",
       "3           5.237919                 5.107890    6.013420              0.0   \n",
       "4           3.684714                 6.330491    4.316702              0.0   \n",
       "\n",
       "   Elevation [m]  Throttle [%]  Motor Torque [Nm]  \\\n",
       "0          449.0           0.0                0.0   \n",
       "1          449.0           0.0                0.0   \n",
       "2          449.0           0.0                0.0   \n",
       "3          449.0           0.0                0.0   \n",
       "4          449.0           0.0                0.0   \n",
       "\n",
       "   Longitudinal Acceleration [m/s^2]  Regenerative Braking Signal   \\\n",
       "0                           -0.32930                           0.0   \n",
       "1                           -0.32930                           0.0   \n",
       "2                           -0.35800                           0.0   \n",
       "3                           -0.35235                           0.0   \n",
       "4                           -0.34367                           0.0   \n",
       "\n",
       "   Battery Voltage [V]  Battery Current [A]    SoC     Route/Area Weather  \\\n",
       "0                388.8            -19.06128  0.287  FTMRoute (2x)  cloudy   \n",
       "1                388.8            -19.06128  0.287  FTMRoute (2x)  cloudy   \n",
       "2                388.8            -18.86127  0.287  FTMRoute (2x)  cloudy   \n",
       "3                388.8            -18.69031  0.287  FTMRoute (2x)  cloudy   \n",
       "4                388.8            -18.64031  0.287  FTMRoute (2x)  cloudy   \n",
       "\n",
       "   isAnomaly  encodedWeather  encodedArea  \n",
       "0        0.0               0            1  \n",
       "1        0.0               0            1  \n",
       "2        0.0               0            1  \n",
       "3        0.0               0            1  \n",
       "4        0.0               0            1  "
      ]
     },
     "execution_count": 10,
     "metadata": {},
     "output_type": "execute_result"
    }
   ],
   "source": [
    "df.head()"
   ]
  },
  {
   "cell_type": "code",
   "execution_count": 11,
   "id": "1b99396b-d5fd-45e6-a549-192098b64761",
   "metadata": {},
   "outputs": [],
   "source": [
    "df = df.drop(['Route/Area','Weather'], axis = 1)"
   ]
  },
  {
   "cell_type": "markdown",
   "id": "9fec87d5-39c8-4368-a9a1-69a49a909322",
   "metadata": {},
   "source": [
    "# Feature Selection"
   ]
  },
  {
   "cell_type": "code",
   "execution_count": null,
   "id": "20ce7f41-ab6b-41cf-8489-1f1afa1029af",
   "metadata": {},
   "outputs": [],
   "source": [
    "sns.heatmap(df.corr())"
   ]
  },
  {
   "cell_type": "code",
   "execution_count": null,
   "id": "e2290d69-762d-4931-8187-b256978ef508",
   "metadata": {},
   "outputs": [],
   "source": [
    "df.corr()"
   ]
  },
  {
   "cell_type": "code",
   "execution_count": 12,
   "id": "b775dfbe",
   "metadata": {},
   "outputs": [
    {
     "data": {
      "text/html": [
       "<div>\n",
       "<style scoped>\n",
       "    .dataframe tbody tr th:only-of-type {\n",
       "        vertical-align: middle;\n",
       "    }\n",
       "\n",
       "    .dataframe tbody tr th {\n",
       "        vertical-align: top;\n",
       "    }\n",
       "\n",
       "    .dataframe thead th {\n",
       "        text-align: right;\n",
       "    }\n",
       "</style>\n",
       "<table border=\"1\" class=\"dataframe\">\n",
       "  <thead>\n",
       "    <tr style=\"text-align: right;\">\n",
       "      <th></th>\n",
       "      <th>CellVoltage(V)</th>\n",
       "      <th>PackVoltage(V)</th>\n",
       "      <th>ChargingCurrent(mA)</th>\n",
       "      <th>DischargeCurrent(mA)</th>\n",
       "      <th>BatteryTemperature(C)</th>\n",
       "      <th>CellTemperature(C)</th>\n",
       "      <th>AmbientTemp(C)</th>\n",
       "      <th>coolingSysTemp(C)</th>\n",
       "      <th>stateOfCharge(SOC)</th>\n",
       "      <th>stateOfHealth(SOH)</th>\n",
       "      <th>stateOfPower(SOP)</th>\n",
       "      <th>internalResistance(ohm)</th>\n",
       "      <th>CycleCount</th>\n",
       "      <th>Velocity [km/h]</th>\n",
       "      <th>Elevation [m]</th>\n",
       "      <th>Throttle [%]</th>\n",
       "      <th>Motor Torque [Nm]</th>\n",
       "      <th>Longitudinal Acceleration [m/s^2]</th>\n",
       "      <th>Regenerative Braking Signal</th>\n",
       "      <th>Battery Voltage [V]</th>\n",
       "      <th>Battery Current [A]</th>\n",
       "      <th>SoC</th>\n",
       "      <th>isAnomaly</th>\n",
       "      <th>encodedWeather</th>\n",
       "      <th>encodedArea</th>\n",
       "    </tr>\n",
       "  </thead>\n",
       "  <tbody>\n",
       "    <tr>\n",
       "      <th>0</th>\n",
       "      <td>3.401186</td>\n",
       "      <td>3.524853</td>\n",
       "      <td>5.482618</td>\n",
       "      <td>5.188095</td>\n",
       "      <td>4.536157</td>\n",
       "      <td>5.860263</td>\n",
       "      <td>2.350556</td>\n",
       "      <td>6.150173</td>\n",
       "      <td>5.196286</td>\n",
       "      <td>3.457591</td>\n",
       "      <td>4.912056</td>\n",
       "      <td>5.850692</td>\n",
       "      <td>5.676005</td>\n",
       "      <td>0.0</td>\n",
       "      <td>449.0</td>\n",
       "      <td>0.0</td>\n",
       "      <td>0.0</td>\n",
       "      <td>-0.32930</td>\n",
       "      <td>0.0</td>\n",
       "      <td>388.8</td>\n",
       "      <td>-19.06128</td>\n",
       "      <td>0.287</td>\n",
       "      <td>0.0</td>\n",
       "      <td>0</td>\n",
       "      <td>1</td>\n",
       "    </tr>\n",
       "    <tr>\n",
       "      <th>1</th>\n",
       "      <td>4.893316</td>\n",
       "      <td>5.723958</td>\n",
       "      <td>5.933192</td>\n",
       "      <td>6.116267</td>\n",
       "      <td>5.055512</td>\n",
       "      <td>5.375973</td>\n",
       "      <td>5.375452</td>\n",
       "      <td>4.836107</td>\n",
       "      <td>4.915610</td>\n",
       "      <td>5.929867</td>\n",
       "      <td>6.703837</td>\n",
       "      <td>4.109705</td>\n",
       "      <td>6.732446</td>\n",
       "      <td>0.0</td>\n",
       "      <td>449.0</td>\n",
       "      <td>0.0</td>\n",
       "      <td>0.0</td>\n",
       "      <td>-0.32930</td>\n",
       "      <td>0.0</td>\n",
       "      <td>388.8</td>\n",
       "      <td>-19.06128</td>\n",
       "      <td>0.287</td>\n",
       "      <td>0.0</td>\n",
       "      <td>0</td>\n",
       "      <td>1</td>\n",
       "    </tr>\n",
       "    <tr>\n",
       "      <th>2</th>\n",
       "      <td>4.370037</td>\n",
       "      <td>4.094304</td>\n",
       "      <td>5.374072</td>\n",
       "      <td>4.527477</td>\n",
       "      <td>4.546304</td>\n",
       "      <td>4.914817</td>\n",
       "      <td>6.500460</td>\n",
       "      <td>6.158534</td>\n",
       "      <td>4.517935</td>\n",
       "      <td>3.196650</td>\n",
       "      <td>4.086214</td>\n",
       "      <td>4.930393</td>\n",
       "      <td>4.151588</td>\n",
       "      <td>0.0</td>\n",
       "      <td>449.0</td>\n",
       "      <td>0.0</td>\n",
       "      <td>0.0</td>\n",
       "      <td>-0.35800</td>\n",
       "      <td>0.0</td>\n",
       "      <td>388.8</td>\n",
       "      <td>-18.86127</td>\n",
       "      <td>0.287</td>\n",
       "      <td>0.0</td>\n",
       "      <td>0</td>\n",
       "      <td>1</td>\n",
       "    </tr>\n",
       "    <tr>\n",
       "      <th>3</th>\n",
       "      <td>5.050531</td>\n",
       "      <td>5.703793</td>\n",
       "      <td>3.323107</td>\n",
       "      <td>6.996345</td>\n",
       "      <td>6.154863</td>\n",
       "      <td>5.192767</td>\n",
       "      <td>3.449812</td>\n",
       "      <td>4.990005</td>\n",
       "      <td>5.647987</td>\n",
       "      <td>6.555744</td>\n",
       "      <td>5.237919</td>\n",
       "      <td>5.107890</td>\n",
       "      <td>6.013420</td>\n",
       "      <td>0.0</td>\n",
       "      <td>449.0</td>\n",
       "      <td>0.0</td>\n",
       "      <td>0.0</td>\n",
       "      <td>-0.35235</td>\n",
       "      <td>0.0</td>\n",
       "      <td>388.8</td>\n",
       "      <td>-18.69031</td>\n",
       "      <td>0.287</td>\n",
       "      <td>0.0</td>\n",
       "      <td>0</td>\n",
       "      <td>1</td>\n",
       "    </tr>\n",
       "    <tr>\n",
       "      <th>4</th>\n",
       "      <td>5.957895</td>\n",
       "      <td>4.872928</td>\n",
       "      <td>5.697286</td>\n",
       "      <td>2.778545</td>\n",
       "      <td>3.734073</td>\n",
       "      <td>6.389655</td>\n",
       "      <td>6.920340</td>\n",
       "      <td>5.989292</td>\n",
       "      <td>5.379920</td>\n",
       "      <td>4.253591</td>\n",
       "      <td>3.684714</td>\n",
       "      <td>6.330491</td>\n",
       "      <td>4.316702</td>\n",
       "      <td>0.0</td>\n",
       "      <td>449.0</td>\n",
       "      <td>0.0</td>\n",
       "      <td>0.0</td>\n",
       "      <td>-0.34367</td>\n",
       "      <td>0.0</td>\n",
       "      <td>388.8</td>\n",
       "      <td>-18.64031</td>\n",
       "      <td>0.287</td>\n",
       "      <td>0.0</td>\n",
       "      <td>0</td>\n",
       "      <td>1</td>\n",
       "    </tr>\n",
       "  </tbody>\n",
       "</table>\n",
       "</div>"
      ],
      "text/plain": [
       "   CellVoltage(V)  PackVoltage(V)  ChargingCurrent(mA)  DischargeCurrent(mA)  \\\n",
       "0        3.401186        3.524853             5.482618              5.188095   \n",
       "1        4.893316        5.723958             5.933192              6.116267   \n",
       "2        4.370037        4.094304             5.374072              4.527477   \n",
       "3        5.050531        5.703793             3.323107              6.996345   \n",
       "4        5.957895        4.872928             5.697286              2.778545   \n",
       "\n",
       "   BatteryTemperature(C)  CellTemperature(C)  AmbientTemp(C)  \\\n",
       "0               4.536157            5.860263        2.350556   \n",
       "1               5.055512            5.375973        5.375452   \n",
       "2               4.546304            4.914817        6.500460   \n",
       "3               6.154863            5.192767        3.449812   \n",
       "4               3.734073            6.389655        6.920340   \n",
       "\n",
       "   coolingSysTemp(C)  stateOfCharge(SOC)  stateOfHealth(SOH)  \\\n",
       "0           6.150173            5.196286            3.457591   \n",
       "1           4.836107            4.915610            5.929867   \n",
       "2           6.158534            4.517935            3.196650   \n",
       "3           4.990005            5.647987            6.555744   \n",
       "4           5.989292            5.379920            4.253591   \n",
       "\n",
       "   stateOfPower(SOP)  internalResistance(ohm)  CycleCount  Velocity [km/h]  \\\n",
       "0           4.912056                 5.850692    5.676005              0.0   \n",
       "1           6.703837                 4.109705    6.732446              0.0   \n",
       "2           4.086214                 4.930393    4.151588              0.0   \n",
       "3           5.237919                 5.107890    6.013420              0.0   \n",
       "4           3.684714                 6.330491    4.316702              0.0   \n",
       "\n",
       "   Elevation [m]  Throttle [%]  Motor Torque [Nm]  \\\n",
       "0          449.0           0.0                0.0   \n",
       "1          449.0           0.0                0.0   \n",
       "2          449.0           0.0                0.0   \n",
       "3          449.0           0.0                0.0   \n",
       "4          449.0           0.0                0.0   \n",
       "\n",
       "   Longitudinal Acceleration [m/s^2]  Regenerative Braking Signal   \\\n",
       "0                           -0.32930                           0.0   \n",
       "1                           -0.32930                           0.0   \n",
       "2                           -0.35800                           0.0   \n",
       "3                           -0.35235                           0.0   \n",
       "4                           -0.34367                           0.0   \n",
       "\n",
       "   Battery Voltage [V]  Battery Current [A]    SoC  isAnomaly  encodedWeather  \\\n",
       "0                388.8            -19.06128  0.287        0.0               0   \n",
       "1                388.8            -19.06128  0.287        0.0               0   \n",
       "2                388.8            -18.86127  0.287        0.0               0   \n",
       "3                388.8            -18.69031  0.287        0.0               0   \n",
       "4                388.8            -18.64031  0.287        0.0               0   \n",
       "\n",
       "   encodedArea  \n",
       "0            1  \n",
       "1            1  \n",
       "2            1  \n",
       "3            1  \n",
       "4            1  "
      ]
     },
     "execution_count": 12,
     "metadata": {},
     "output_type": "execute_result"
    }
   ],
   "source": [
    "df.head()"
   ]
  },
  {
   "cell_type": "code",
   "execution_count": 13,
   "id": "ccf4fd85",
   "metadata": {},
   "outputs": [],
   "source": [
    "cols= cols_to_be_dropped = ['Throttle [%]','Motor Torque [Nm]','Longitudinal Acceleration [m/s^2]','Regenerative Braking Signal ','Battery Current [A]']"
   ]
  },
  {
   "cell_type": "raw",
   "id": "69772669",
   "metadata": {
    "vscode": {
     "languageId": "raw"
    }
   },
   "source": [
    "cols_to_be_dropped = ['Throttle [%]','Motor Torque [Nm]','Longitudinal Acceleration [m/s^2]','Regenerative Braking Signal ','Battery Current [A]']"
   ]
  },
  {
   "cell_type": "code",
   "execution_count": 14,
   "id": "96c132c3-498b-4f78-99c6-7dad624adcdf",
   "metadata": {},
   "outputs": [],
   "source": [
    "df = df.drop(cols,axis=1)"
   ]
  },
  {
   "cell_type": "code",
   "execution_count": 15,
   "id": "1002f59d",
   "metadata": {},
   "outputs": [
    {
     "data": {
      "text/plain": [
       "(202137, 20)"
      ]
     },
     "execution_count": 15,
     "metadata": {},
     "output_type": "execute_result"
    }
   ],
   "source": [
    "df.shape"
   ]
  },
  {
   "cell_type": "markdown",
   "id": "90aa407f-d200-4984-b53c-f6fdcc8041b0",
   "metadata": {},
   "source": [
    "# Feature Scaling"
   ]
  },
  {
   "cell_type": "code",
   "execution_count": null,
   "id": "2bade634-9d02-476c-97a6-98c76843bf20",
   "metadata": {},
   "outputs": [],
   "source": [
    "x = df.drop('isAnomaly', axis=1)\n",
    "y = df['isAnomaly']"
   ]
  },
  {
   "cell_type": "code",
   "execution_count": null,
   "id": "417f0725-d37e-4511-bc6c-6c9c61f365a9",
   "metadata": {},
   "outputs": [],
   "source": [
    "# RobustScaler\n",
    "\n",
    "from sklearn.preprocessing import RobustScaler\n",
    "scaler = RobustScaler()\n",
    "x_scaled = pd.DataFrame(scaler.fit_transform(df), columns= df.columns)"
   ]
  },
  {
   "cell_type": "markdown",
   "id": "68a89077-9d10-4bd8-9901-3a7b05018c8e",
   "metadata": {},
   "source": [
    "# train_test_split"
   ]
  },
  {
   "cell_type": "code",
   "execution_count": null,
   "id": "6523cfc5-01d1-4565-989b-19b0345f31ee",
   "metadata": {},
   "outputs": [],
   "source": [
    "from sklearn.model_selection import train_test_split"
   ]
  },
  {
   "cell_type": "code",
   "execution_count": null,
   "id": "8634c123-5815-46bf-ac37-2c521263da26",
   "metadata": {},
   "outputs": [],
   "source": [
    "x_train, x_test, y_train, y_test = train_test_split(x_scaled,y, test_size=0.3, random_state=1, stratify=y)"
   ]
  },
  {
   "cell_type": "markdown",
   "id": "62136fde-adae-4ce1-ac0e-7eff860a136a",
   "metadata": {},
   "source": [
    "# Modelling"
   ]
  },
  {
   "cell_type": "code",
   "execution_count": null,
   "id": "9b5cc854-627a-486a-acfe-59ef18e58a98",
   "metadata": {},
   "outputs": [],
   "source": [
    "from sklearn.linear_model import LogisticRegression\n",
    "\n",
    "lr = LogisticRegression()\n",
    "lr.fit(x_train,y_train)"
   ]
  },
  {
   "cell_type": "code",
   "execution_count": null,
   "id": "20840174-a5f4-458e-9b5b-91096efe4fd6",
   "metadata": {},
   "outputs": [],
   "source": [
    "pred_train = lr.predict(x_train)\n",
    "pred_test = lr.predict(x_test)"
   ]
  },
  {
   "cell_type": "code",
   "execution_count": null,
   "id": "cac4b82d-64a4-43a6-9032-68f47c701ba3",
   "metadata": {},
   "outputs": [],
   "source": [
    "from sklearn.metrics import accuracy_score, classification_report, confusion_matrix, roc_auc_score"
   ]
  },
  {
   "cell_type": "code",
   "execution_count": null,
   "id": "5631a96b-60f9-4932-9472-4f57936cc304",
   "metadata": {},
   "outputs": [],
   "source": [
    "print(accuracy_score(y_train, pred_train))\n",
    "print(accuracy_score(y_test, pred_test))"
   ]
  },
  {
   "cell_type": "code",
   "execution_count": null,
   "id": "140aa810-e04f-4b9c-ae48-8e4b1f2871ba",
   "metadata": {},
   "outputs": [],
   "source": [
    "print(roc_auc_score(y_train, pred_train))\n",
    "print(roc_auc_score(y_test, pred_test))"
   ]
  },
  {
   "cell_type": "code",
   "execution_count": null,
   "id": "c8093959-e144-4aa8-a3b0-4bcabc96548b",
   "metadata": {},
   "outputs": [],
   "source": [
    "print(classification_report(y_train, pred_train))\n",
    "print(\"\\n\\n\")\n",
    "print(classification_report(y_test, pred_test))"
   ]
  },
  {
   "cell_type": "code",
   "execution_count": null,
   "id": "1f49fc26-0358-4fd7-85dd-77d450d8ea76",
   "metadata": {},
   "outputs": [],
   "source": [
    "print(confusion_matrix(y_train, pred_train))\n",
    "print(\"\\n\\n\")\n",
    "print(confusion_matrix(y_test, pred_test))"
   ]
  }
 ],
 "metadata": {
  "kernelspec": {
   "display_name": "Python 3 (ipykernel)",
   "language": "python",
   "name": "python3"
  },
  "language_info": {
   "codemirror_mode": {
    "name": "ipython",
    "version": 3
   },
   "file_extension": ".py",
   "mimetype": "text/x-python",
   "name": "python",
   "nbconvert_exporter": "python",
   "pygments_lexer": "ipython3",
   "version": "3.8.19"
  }
 },
 "nbformat": 4,
 "nbformat_minor": 5
}
