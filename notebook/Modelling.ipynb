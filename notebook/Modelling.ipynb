{
 "cells": [
  {
   "cell_type": "code",
   "execution_count": 1,
   "id": "a9a5185d-49b1-41f5-b9cf-5c63ff1f373c",
   "metadata": {},
   "outputs": [],
   "source": [
    "import os\n",
    "import pandas as pd\n",
    "import matplotlib.pyplot as plt\n",
    "%matplotlib inline\n",
    "import seaborn as sns\n",
    "sns.set()"
   ]
  },
  {
   "cell_type": "code",
   "execution_count": 2,
   "id": "73a28ce7-a680-4572-8c4a-105191a87907",
   "metadata": {},
   "outputs": [
    {
     "data": {
      "text/plain": [
       "'d:\\\\bms-ad\\\\notebook'"
      ]
     },
     "execution_count": 2,
     "metadata": {},
     "output_type": "execute_result"
    }
   ],
   "source": [
    "os.getcwd()"
   ]
  },
  {
   "cell_type": "code",
   "execution_count": 10,
   "id": "7ce0db0a-1e1b-46d1-8c39-b9d63c9ce041",
   "metadata": {},
   "outputs": [],
   "source": [
    "os.chdir(\"d:\\\\bms-ad\\\\notebook\")"
   ]
  },
  {
   "cell_type": "code",
   "execution_count": 11,
   "id": "7d946cc3-cbec-4447-83e9-ac5e046f27d4",
   "metadata": {},
   "outputs": [],
   "source": [
    "df = pd.read_csv(\"D:/bms-ad/notebook/data/data.csv\")"
   ]
  },
  {
   "cell_type": "code",
   "execution_count": 12,
   "id": "6771ef26-928a-40be-8699-4367ac24906f",
   "metadata": {},
   "outputs": [
    {
     "data": {
      "text/html": [
       "<div>\n",
       "<style scoped>\n",
       "    .dataframe tbody tr th:only-of-type {\n",
       "        vertical-align: middle;\n",
       "    }\n",
       "\n",
       "    .dataframe tbody tr th {\n",
       "        vertical-align: top;\n",
       "    }\n",
       "\n",
       "    .dataframe thead th {\n",
       "        text-align: right;\n",
       "    }\n",
       "</style>\n",
       "<table border=\"1\" class=\"dataframe\">\n",
       "  <thead>\n",
       "    <tr style=\"text-align: right;\">\n",
       "      <th></th>\n",
       "      <th>CellVoltage(V)</th>\n",
       "      <th>PackVoltage(V)</th>\n",
       "      <th>ChargingCurrent(mA)</th>\n",
       "      <th>DischargeCurrent(mA)</th>\n",
       "      <th>BatteryTemperature(C)</th>\n",
       "      <th>CellTemperature(C)</th>\n",
       "      <th>AmbientTemp(C)</th>\n",
       "      <th>coolingSysTemp(C)</th>\n",
       "      <th>stateOfCharge(SOC)</th>\n",
       "      <th>stateOfHealth(SOH)</th>\n",
       "      <th>stateOfPower(SOP)</th>\n",
       "      <th>internalResistance(ohm)</th>\n",
       "      <th>CycleCount</th>\n",
       "      <th>Velocity [km/h]</th>\n",
       "      <th>Elevation [m]</th>\n",
       "      <th>Throttle [%]</th>\n",
       "      <th>Motor Torque [Nm]</th>\n",
       "      <th>Longitudinal Acceleration [m/s^2]</th>\n",
       "      <th>Regenerative Braking Signal</th>\n",
       "      <th>Battery Voltage [V]</th>\n",
       "      <th>Battery Current [A]</th>\n",
       "      <th>SoC</th>\n",
       "      <th>Route/Area</th>\n",
       "      <th>Weather</th>\n",
       "      <th>isAnomaly</th>\n",
       "    </tr>\n",
       "  </thead>\n",
       "  <tbody>\n",
       "    <tr>\n",
       "      <th>74574</th>\n",
       "      <td>7.078652</td>\n",
       "      <td>6.800507</td>\n",
       "      <td>5.081372</td>\n",
       "      <td>4.766425</td>\n",
       "      <td>5.310252</td>\n",
       "      <td>5.111808</td>\n",
       "      <td>6.170858</td>\n",
       "      <td>6.516666</td>\n",
       "      <td>4.836840</td>\n",
       "      <td>4.393561</td>\n",
       "      <td>3.435488</td>\n",
       "      <td>5.832679</td>\n",
       "      <td>4.935868</td>\n",
       "      <td>0.00</td>\n",
       "      <td>509.52</td>\n",
       "      <td>0.00</td>\n",
       "      <td>0.00</td>\n",
       "      <td>-0.280</td>\n",
       "      <td>0.0</td>\n",
       "      <td>363.60</td>\n",
       "      <td>-0.70000</td>\n",
       "      <td>-0.241</td>\n",
       "      <td>Munich North + Fast Charging</td>\n",
       "      <td>cloudy</td>\n",
       "      <td>0.0</td>\n",
       "    </tr>\n",
       "    <tr>\n",
       "      <th>119</th>\n",
       "      <td>6.049696</td>\n",
       "      <td>5.175684</td>\n",
       "      <td>3.707700</td>\n",
       "      <td>4.032092</td>\n",
       "      <td>5.849574</td>\n",
       "      <td>3.959783</td>\n",
       "      <td>6.043393</td>\n",
       "      <td>6.064029</td>\n",
       "      <td>3.665998</td>\n",
       "      <td>6.224140</td>\n",
       "      <td>4.678665</td>\n",
       "      <td>6.799693</td>\n",
       "      <td>5.912499</td>\n",
       "      <td>0.00</td>\n",
       "      <td>449.00</td>\n",
       "      <td>0.00</td>\n",
       "      <td>0.00</td>\n",
       "      <td>-0.378</td>\n",
       "      <td>0.0</td>\n",
       "      <td>388.90</td>\n",
       "      <td>-15.91972</td>\n",
       "      <td>0.287</td>\n",
       "      <td>FTMRoute (2x)</td>\n",
       "      <td>cloudy</td>\n",
       "      <td>0.0</td>\n",
       "    </tr>\n",
       "    <tr>\n",
       "      <th>154460</th>\n",
       "      <td>5.688356</td>\n",
       "      <td>3.851787</td>\n",
       "      <td>4.203349</td>\n",
       "      <td>7.021728</td>\n",
       "      <td>4.306500</td>\n",
       "      <td>7.038943</td>\n",
       "      <td>4.384866</td>\n",
       "      <td>3.917277</td>\n",
       "      <td>7.226970</td>\n",
       "      <td>4.763957</td>\n",
       "      <td>4.001711</td>\n",
       "      <td>5.041100</td>\n",
       "      <td>5.876644</td>\n",
       "      <td>15.17</td>\n",
       "      <td>524.79</td>\n",
       "      <td>41.93</td>\n",
       "      <td>68.33</td>\n",
       "      <td>1.060</td>\n",
       "      <td>0.0</td>\n",
       "      <td>369.24</td>\n",
       "      <td>-30.21000</td>\n",
       "      <td>0.233</td>\n",
       "      <td>Munich Northeast</td>\n",
       "      <td>cloudy</td>\n",
       "      <td>0.0</td>\n",
       "    </tr>\n",
       "    <tr>\n",
       "      <th>193741</th>\n",
       "      <td>-2.799637</td>\n",
       "      <td>-0.110154</td>\n",
       "      <td>1.648612</td>\n",
       "      <td>-4.940018</td>\n",
       "      <td>1.911057</td>\n",
       "      <td>2.674432</td>\n",
       "      <td>-0.674253</td>\n",
       "      <td>-0.020057</td>\n",
       "      <td>-1.734388</td>\n",
       "      <td>0.783139</td>\n",
       "      <td>2.852316</td>\n",
       "      <td>-1.445932</td>\n",
       "      <td>-2.692546</td>\n",
       "      <td>119.05</td>\n",
       "      <td>612.50</td>\n",
       "      <td>32.93</td>\n",
       "      <td>0.50</td>\n",
       "      <td>-0.310</td>\n",
       "      <td>0.0</td>\n",
       "      <td>347.50</td>\n",
       "      <td>-9.87000</td>\n",
       "      <td>0.240</td>\n",
       "      <td>Munich South</td>\n",
       "      <td>sunny</td>\n",
       "      <td>1.0</td>\n",
       "    </tr>\n",
       "    <tr>\n",
       "      <th>168128</th>\n",
       "      <td>5.341693</td>\n",
       "      <td>5.923247</td>\n",
       "      <td>4.725428</td>\n",
       "      <td>5.622390</td>\n",
       "      <td>3.648161</td>\n",
       "      <td>5.154174</td>\n",
       "      <td>4.708780</td>\n",
       "      <td>4.641407</td>\n",
       "      <td>4.370104</td>\n",
       "      <td>4.677191</td>\n",
       "      <td>3.796686</td>\n",
       "      <td>3.789155</td>\n",
       "      <td>5.710321</td>\n",
       "      <td>25.71</td>\n",
       "      <td>573.97</td>\n",
       "      <td>43.96</td>\n",
       "      <td>43.00</td>\n",
       "      <td>0.410</td>\n",
       "      <td>0.0</td>\n",
       "      <td>362.67</td>\n",
       "      <td>-30.96000</td>\n",
       "      <td>0.233</td>\n",
       "      <td>Munich Northeast</td>\n",
       "      <td>cloudy</td>\n",
       "      <td>0.0</td>\n",
       "    </tr>\n",
       "  </tbody>\n",
       "</table>\n",
       "</div>"
      ],
      "text/plain": [
       "        CellVoltage(V)  PackVoltage(V)  ChargingCurrent(mA)  \\\n",
       "74574         7.078652        6.800507             5.081372   \n",
       "119           6.049696        5.175684             3.707700   \n",
       "154460        5.688356        3.851787             4.203349   \n",
       "193741       -2.799637       -0.110154             1.648612   \n",
       "168128        5.341693        5.923247             4.725428   \n",
       "\n",
       "        DischargeCurrent(mA)  BatteryTemperature(C)  CellTemperature(C)  \\\n",
       "74574               4.766425               5.310252            5.111808   \n",
       "119                 4.032092               5.849574            3.959783   \n",
       "154460              7.021728               4.306500            7.038943   \n",
       "193741             -4.940018               1.911057            2.674432   \n",
       "168128              5.622390               3.648161            5.154174   \n",
       "\n",
       "        AmbientTemp(C)  coolingSysTemp(C)  stateOfCharge(SOC)  \\\n",
       "74574         6.170858           6.516666            4.836840   \n",
       "119           6.043393           6.064029            3.665998   \n",
       "154460        4.384866           3.917277            7.226970   \n",
       "193741       -0.674253          -0.020057           -1.734388   \n",
       "168128        4.708780           4.641407            4.370104   \n",
       "\n",
       "        stateOfHealth(SOH)  stateOfPower(SOP)  internalResistance(ohm)  \\\n",
       "74574             4.393561           3.435488                 5.832679   \n",
       "119               6.224140           4.678665                 6.799693   \n",
       "154460            4.763957           4.001711                 5.041100   \n",
       "193741            0.783139           2.852316                -1.445932   \n",
       "168128            4.677191           3.796686                 3.789155   \n",
       "\n",
       "        CycleCount  Velocity [km/h]  Elevation [m]  Throttle [%]  \\\n",
       "74574     4.935868             0.00         509.52          0.00   \n",
       "119       5.912499             0.00         449.00          0.00   \n",
       "154460    5.876644            15.17         524.79         41.93   \n",
       "193741   -2.692546           119.05         612.50         32.93   \n",
       "168128    5.710321            25.71         573.97         43.96   \n",
       "\n",
       "        Motor Torque [Nm]  Longitudinal Acceleration [m/s^2]  \\\n",
       "74574                0.00                             -0.280   \n",
       "119                  0.00                             -0.378   \n",
       "154460              68.33                              1.060   \n",
       "193741               0.50                             -0.310   \n",
       "168128              43.00                              0.410   \n",
       "\n",
       "        Regenerative Braking Signal   Battery Voltage [V]  \\\n",
       "74574                            0.0               363.60   \n",
       "119                              0.0               388.90   \n",
       "154460                           0.0               369.24   \n",
       "193741                           0.0               347.50   \n",
       "168128                           0.0               362.67   \n",
       "\n",
       "        Battery Current [A]    SoC                    Route/Area Weather  \\\n",
       "74574              -0.70000 -0.241  Munich North + Fast Charging  cloudy   \n",
       "119               -15.91972  0.287                 FTMRoute (2x)  cloudy   \n",
       "154460            -30.21000  0.233              Munich Northeast  cloudy   \n",
       "193741             -9.87000  0.240                  Munich South   sunny   \n",
       "168128            -30.96000  0.233              Munich Northeast  cloudy   \n",
       "\n",
       "        isAnomaly  \n",
       "74574         0.0  \n",
       "119           0.0  \n",
       "154460        0.0  \n",
       "193741        1.0  \n",
       "168128        0.0  "
      ]
     },
     "execution_count": 12,
     "metadata": {},
     "output_type": "execute_result"
    }
   ],
   "source": [
    "pd.set_option('display.max_columns', None)\n",
    "df.sample(5)"
   ]
  },
  {
   "cell_type": "code",
   "execution_count": null,
   "id": "07a4df73-ec0c-4b6b-a6cc-0b70a25ffba4",
   "metadata": {},
   "outputs": [],
   "source": [
    "df.shape"
   ]
  },
  {
   "cell_type": "code",
   "execution_count": null,
   "id": "34b4552a-ec52-409f-8845-c4ac248cf03a",
   "metadata": {},
   "outputs": [],
   "source": [
    "df.describe()"
   ]
  },
  {
   "cell_type": "code",
   "execution_count": null,
   "id": "58c38b87-5790-425f-b7f6-3d26a82ce79f",
   "metadata": {},
   "outputs": [],
   "source": [
    "df.info()"
   ]
  },
  {
   "cell_type": "code",
   "execution_count": 13,
   "id": "512621dd-c3c9-436d-bb72-70f2a0f6627e",
   "metadata": {},
   "outputs": [
    {
     "name": "stdout",
     "output_type": "stream",
     "text": [
      "['CellVoltage(V)', 'PackVoltage(V)', 'ChargingCurrent(mA)', 'DischargeCurrent(mA)', 'BatteryTemperature(C)', 'CellTemperature(C)', 'AmbientTemp(C)', 'coolingSysTemp(C)', 'stateOfCharge(SOC)', 'stateOfHealth(SOH)', 'stateOfPower(SOP)', 'internalResistance(ohm)', 'CycleCount', 'Velocity [km/h]', 'Elevation [m]', 'Throttle [%]', 'Motor Torque [Nm]', 'Longitudinal Acceleration [m/s^2]', 'Regenerative Braking Signal ', 'Battery Voltage [V]', 'Battery Current [A]', 'SoC', 'isAnomaly']\n",
      "\n",
      "\n",
      "\n",
      "['Route/Area', 'Weather']\n"
     ]
    }
   ],
   "source": [
    "num = []\n",
    "char = []\n",
    "\n",
    "for i in df.columns:\n",
    "    if df[i].dtype != \"object\":\n",
    "        num.append(i)\n",
    "    else:\n",
    "        char.append(i)\n",
    "\n",
    "print(num)\n",
    "print(\"\\n\\n\")\n",
    "print(char)"
   ]
  },
  {
   "cell_type": "code",
   "execution_count": null,
   "id": "596fb749-7672-4dc4-9208-efc0fb01e703",
   "metadata": {},
   "outputs": [],
   "source": [
    "for i in num:\n",
    "    print(\"Column Name: \",i,'\\n',\"Std. Dev.\", round(df[i].std(), 4),'\\n\\n')"
   ]
  },
  {
   "cell_type": "code",
   "execution_count": null,
   "id": "5e571f2e-e400-47a4-bd2c-64eda267f9da",
   "metadata": {},
   "outputs": [],
   "source": [
    "for i in char:\n",
    "    print(df[i].value_counts(),\"\\n\\n\")"
   ]
  },
  {
   "cell_type": "markdown",
   "id": "e52498f3-fd4d-4a09-9aca-0721dda3b3b6",
   "metadata": {},
   "source": [
    "# Missing Values-- \n",
    "#### 1.49% missing value on selected columns\n",
    "#### Action: Dropping the rows, 1.49% is less compared to data volume"
   ]
  },
  {
   "cell_type": "code",
   "execution_count": null,
   "id": "33279dfb-960f-4cc7-83d4-0610ff1f75b8",
   "metadata": {},
   "outputs": [],
   "source": [
    " data = df.copy()\n",
    "# df = data.copy()"
   ]
  },
  {
   "cell_type": "code",
   "execution_count": null,
   "id": "d5dc0d32-e272-4b5e-955c-2a5cbabcdffc",
   "metadata": {},
   "outputs": [],
   "source": [
    "df.isnull().sum()"
   ]
  },
  {
   "cell_type": "code",
   "execution_count": null,
   "id": "3d08ec9e-7f77-468b-8668-44b4165e1fc8",
   "metadata": {},
   "outputs": [],
   "source": [
    "df.isnull().sum()/len(df)*100"
   ]
  },
  {
   "cell_type": "code",
   "execution_count": null,
   "id": "97985d56-75fa-44e8-b588-3e6bb9e31eb4",
   "metadata": {},
   "outputs": [],
   "source": [
    "df = df.dropna(axis = 0,subset=[\"Velocity [km/h]\"])\n",
    "df.isnull().sum()"
   ]
  },
  {
   "cell_type": "markdown",
   "id": "500ff580-d62e-44b6-8915-95e6bbb0558d",
   "metadata": {},
   "source": [
    "## Duplicated Value -- No duplicate values"
   ]
  },
  {
   "cell_type": "code",
   "execution_count": null,
   "id": "bd74ddcf-cab4-4085-bf64-9bce6dcbc4f3",
   "metadata": {},
   "outputs": [],
   "source": [
    "df.duplicated().sum()"
   ]
  },
  {
   "cell_type": "markdown",
   "id": "43537f63-1006-479e-aef2-8b94b39fac45",
   "metadata": {},
   "source": [
    "## Outliers"
   ]
  },
  {
   "cell_type": "code",
   "execution_count": null,
   "id": "5d0cb103-2bbc-4208-89a0-ec6cb8a5a39d",
   "metadata": {},
   "outputs": [],
   "source": [
    "sns.boxplot(data =df['CellVoltage(V)'])"
   ]
  },
  {
   "cell_type": "code",
   "execution_count": null,
   "id": "6e095feb-4288-47be-8702-0347e862896d",
   "metadata": {
    "scrolled": true
   },
   "outputs": [],
   "source": [
    "sns.boxplot(data =df['PackVoltage(V)'])"
   ]
  },
  {
   "cell_type": "code",
   "execution_count": null,
   "id": "7f2ee924-e556-4279-835d-a128846a46c1",
   "metadata": {
    "scrolled": true
   },
   "outputs": [],
   "source": [
    "sns.boxplot(data =df['ChargingCurrent(mA)'])"
   ]
  },
  {
   "cell_type": "code",
   "execution_count": null,
   "id": "066a52b9-811c-4717-b865-5df76d3b924e",
   "metadata": {
    "scrolled": true
   },
   "outputs": [],
   "source": [
    "sns.boxplot(data =df['DischargeCurrent(mA)'])"
   ]
  },
  {
   "cell_type": "code",
   "execution_count": null,
   "id": "62df1dcb-7d62-46ee-99fb-b6abcc4a0711",
   "metadata": {},
   "outputs": [],
   "source": [
    "sns.boxplot(data =df['Temperature(C)'])"
   ]
  },
  {
   "cell_type": "code",
   "execution_count": null,
   "id": "4f0d6d0f-dab5-453d-a618-f2182727239b",
   "metadata": {},
   "outputs": [],
   "source": [
    "sns.boxplot(data =df['CellTemperature(C)'])"
   ]
  },
  {
   "cell_type": "code",
   "execution_count": null,
   "id": "fcfd55f8-9c19-4e64-b639-501f600044c7",
   "metadata": {},
   "outputs": [],
   "source": [
    "sns.boxplot(data =df['AmbientTemp(C)'])"
   ]
  },
  {
   "cell_type": "code",
   "execution_count": null,
   "id": "11b38a0e-beec-4011-804e-dcd53ad6aa47",
   "metadata": {},
   "outputs": [],
   "source": [
    "sns.boxplot(data =df['coolingSysTemp(C)'])"
   ]
  },
  {
   "cell_type": "code",
   "execution_count": null,
   "id": "0c705514-cd24-4391-ba3f-659c24d85ec1",
   "metadata": {},
   "outputs": [],
   "source": [
    "sns.boxplot(data =df['stateOfCharge(SOC)'])"
   ]
  },
  {
   "cell_type": "code",
   "execution_count": null,
   "id": "aa2dfcc6-46cf-4ce5-aba2-c92b7cfc2c4b",
   "metadata": {},
   "outputs": [],
   "source": [
    "sns.boxplot(data =df['stateOfHealth(SOH)'])"
   ]
  },
  {
   "cell_type": "code",
   "execution_count": null,
   "id": "e6893ce8-eee5-4822-963c-2eb33800814a",
   "metadata": {},
   "outputs": [],
   "source": [
    "sns.boxplot(data =df['stateOfPower(SOP)'])"
   ]
  },
  {
   "cell_type": "code",
   "execution_count": null,
   "id": "a9f6d3c2-4d44-475c-aaa2-0f910f5dcdf9",
   "metadata": {},
   "outputs": [],
   "source": [
    "sns.boxplot(data =df['internalResistance(ohm)'])"
   ]
  },
  {
   "cell_type": "code",
   "execution_count": null,
   "id": "4d69ca0b-782c-43b4-b6ca-c0715608c4ef",
   "metadata": {},
   "outputs": [],
   "source": [
    "sns.boxplot(data =df['CycleCount'])"
   ]
  },
  {
   "cell_type": "code",
   "execution_count": null,
   "id": "d13e8aae-fca8-4168-b55f-a645dcb60470",
   "metadata": {},
   "outputs": [],
   "source": [
    "sns.boxplot(data =df['Velocity [km/h]'])"
   ]
  },
  {
   "cell_type": "code",
   "execution_count": null,
   "id": "ee23f97f-62ef-46c5-b3a0-4ed7a1e4fd85",
   "metadata": {},
   "outputs": [],
   "source": [
    "sns.boxplot(data =df['Elevation [m]'])"
   ]
  },
  {
   "cell_type": "code",
   "execution_count": null,
   "id": "cbf57ede-f7c5-40c2-992b-0afaa6ff9091",
   "metadata": {},
   "outputs": [],
   "source": [
    "sns.boxplot(data =df['Throttle [%]'])"
   ]
  },
  {
   "cell_type": "code",
   "execution_count": null,
   "id": "6391c4e4-db1e-4d13-9d8c-63da18af5531",
   "metadata": {},
   "outputs": [],
   "source": [
    "sns.boxplot(data =df['Motor Torque [Nm]'])"
   ]
  },
  {
   "cell_type": "code",
   "execution_count": null,
   "id": "91890dc3-4a94-4da0-b395-cf92a4d36ca6",
   "metadata": {},
   "outputs": [],
   "source": [
    "sns.boxplot(data =df['Longitudinal Acceleration [m/s^2]'])"
   ]
  },
  {
   "cell_type": "code",
   "execution_count": null,
   "id": "ab2c141b-86a1-4fc3-88bc-42cf97d72721",
   "metadata": {},
   "outputs": [],
   "source": [
    "sns.boxplot(data =df['Regenerative Braking Signal '])"
   ]
  },
  {
   "cell_type": "code",
   "execution_count": null,
   "id": "1e1c83bc-ec58-4ea2-8cb1-e81834a0148e",
   "metadata": {},
   "outputs": [],
   "source": [
    "sns.boxplot(data =df['Battery Voltage [V]'])"
   ]
  },
  {
   "cell_type": "code",
   "execution_count": null,
   "id": "075d39cf-3b0a-46da-a029-209bd4629b2c",
   "metadata": {},
   "outputs": [],
   "source": [
    "sns.boxplot(data =df['Battery Current [A]'])"
   ]
  },
  {
   "cell_type": "code",
   "execution_count": null,
   "id": "fbb3e4d9-da08-4b5e-bb2a-6cddbfe0ebde",
   "metadata": {},
   "outputs": [],
   "source": [
    "sns.boxplot(data =df['SoC'])"
   ]
  },
  {
   "cell_type": "code",
   "execution_count": null,
   "id": "8456937a-1af2-486e-97f2-64a524bc0eae",
   "metadata": {},
   "outputs": [],
   "source": [
    "sns.kdeplot(df['CellVoltage(V)'])"
   ]
  },
  {
   "cell_type": "code",
   "execution_count": null,
   "id": "6c3a5613-7511-404f-b635-9a379ddc2671",
   "metadata": {},
   "outputs": [],
   "source": [
    "sns.kdeplot(df['PackVoltage(V)'])"
   ]
  },
  {
   "cell_type": "code",
   "execution_count": null,
   "id": "b0d7fe94-04f0-4952-839e-e37641a18a5b",
   "metadata": {},
   "outputs": [],
   "source": [
    "sns.kdeplot(df['ChargingCurrent(mA)'])"
   ]
  },
  {
   "cell_type": "code",
   "execution_count": null,
   "id": "92b95ddc-b481-43ed-9c82-dfac188f7c18",
   "metadata": {},
   "outputs": [],
   "source": [
    "sns.kdeplot(df['DischargeCurrent(mA)'])"
   ]
  },
  {
   "cell_type": "code",
   "execution_count": null,
   "id": "c95e57e6-2901-41c3-9085-fe21238fe28d",
   "metadata": {},
   "outputs": [],
   "source": [
    "sns.kdeplot(df['Temperature(C)'])"
   ]
  },
  {
   "cell_type": "code",
   "execution_count": null,
   "id": "91f92ce8-a133-4aaa-8c53-eb9e06762fc9",
   "metadata": {},
   "outputs": [],
   "source": [
    "sns.kdeplot(df['CellTemperature(C)'])"
   ]
  },
  {
   "cell_type": "code",
   "execution_count": null,
   "id": "17c92c64-4de1-4eaa-9e2c-72d7d0a42c48",
   "metadata": {},
   "outputs": [],
   "source": [
    "sns.kdeplot(df['AmbientTemp(C)'])"
   ]
  },
  {
   "cell_type": "code",
   "execution_count": null,
   "id": "cc4ccc70-992c-4f23-a609-27b4c4964952",
   "metadata": {},
   "outputs": [],
   "source": [
    "sns.kdeplot(df['coolingSysTemp(C)'])"
   ]
  },
  {
   "cell_type": "code",
   "execution_count": null,
   "id": "d3578fc5-9ef6-4ae9-9de5-ac4a0090e389",
   "metadata": {},
   "outputs": [],
   "source": [
    "sns.kdeplot(df['stateOfCharge(SOC)'])"
   ]
  },
  {
   "cell_type": "code",
   "execution_count": null,
   "id": "12386fc1-6e00-4408-9ad0-071e267731ad",
   "metadata": {},
   "outputs": [],
   "source": [
    "sns.kdeplot(df['stateOfHealth(SOH)'])"
   ]
  },
  {
   "cell_type": "code",
   "execution_count": null,
   "id": "711f7219-fda2-4b25-977c-184ab05a177a",
   "metadata": {},
   "outputs": [],
   "source": [
    "sns.kdeplot(df['stateOfPower(SOP)'])"
   ]
  },
  {
   "cell_type": "code",
   "execution_count": null,
   "id": "7f54b03c-12db-4f3b-90a4-23c0cd93afab",
   "metadata": {},
   "outputs": [],
   "source": [
    "sns.kdeplot(df['internalResistance(ohm)'])"
   ]
  },
  {
   "cell_type": "code",
   "execution_count": null,
   "id": "46bef0a8-01a3-483f-8bfc-a5e81d4ef7d3",
   "metadata": {},
   "outputs": [],
   "source": [
    "sns.kdeplot(df['CycleCount'])"
   ]
  },
  {
   "cell_type": "code",
   "execution_count": null,
   "id": "c04e44df-d3bb-4c02-8380-7025c2e552e3",
   "metadata": {},
   "outputs": [],
   "source": [
    "sns.kdeplot(df['Velocity [km/h]'])"
   ]
  },
  {
   "cell_type": "code",
   "execution_count": null,
   "id": "fa671aba-172b-4cc5-afeb-664fdb3f5b35",
   "metadata": {},
   "outputs": [],
   "source": [
    "sns.kdeplot(df['Elevation [m]'])"
   ]
  },
  {
   "cell_type": "code",
   "execution_count": null,
   "id": "9f2ea244-eeaa-4bcc-b40b-cef0d6aad711",
   "metadata": {},
   "outputs": [],
   "source": [
    "sns.kdeplot(df['Throttle [%]'])"
   ]
  },
  {
   "cell_type": "code",
   "execution_count": null,
   "id": "9b7f465d-6a3a-4b1d-9490-92ae73367a37",
   "metadata": {},
   "outputs": [],
   "source": [
    "sns.kdeplot(df['Motor Torque [Nm]'])"
   ]
  },
  {
   "cell_type": "code",
   "execution_count": null,
   "id": "37dbf3ff-2843-408b-86bb-9a1f519b6b19",
   "metadata": {},
   "outputs": [],
   "source": [
    "sns.kdeplot(df['Longitudinal Acceleration [m/s^2]'])"
   ]
  },
  {
   "cell_type": "code",
   "execution_count": null,
   "id": "47749956-8052-40cc-b8d7-f87ceb708a0e",
   "metadata": {},
   "outputs": [],
   "source": [
    "sns.kdeplot(df['Regenerative Braking Signal '])"
   ]
  },
  {
   "cell_type": "code",
   "execution_count": null,
   "id": "6f45b25c-608a-48d9-bb64-dba54ff60d58",
   "metadata": {},
   "outputs": [],
   "source": [
    "sns.kdeplot(df['Battery Voltage [V]'])"
   ]
  },
  {
   "cell_type": "code",
   "execution_count": null,
   "id": "d3304a42-6adb-4505-8e87-eedb31b58bbb",
   "metadata": {},
   "outputs": [],
   "source": [
    "sns.kdeplot(df['Battery Current [A]'])"
   ]
  },
  {
   "cell_type": "code",
   "execution_count": null,
   "id": "2ed711f2-e655-4c23-9cf5-02a221ba9b87",
   "metadata": {},
   "outputs": [],
   "source": [
    "sns.kdeplot(df['SoC'])"
   ]
  },
  {
   "cell_type": "raw",
   "id": "1e24f61d-8555-41bf-a2bb-a471b9c16a22",
   "metadata": {},
   "source": [
    "# Since the objective is detection of Anomaly, which can be greatly dependent on the outliers. Thus we are not removing outliers\n",
    "# For feature scaling we will use RobustScaler instead of StandardScaler or MinMaxScaler as it is more reliable in presence of outliers"
   ]
  },
  {
   "cell_type": "code",
   "execution_count": null,
   "id": "590da617-720d-45ce-ab95-e48893dc8ffd",
   "metadata": {},
   "outputs": [],
   "source": [
    "df.columns"
   ]
  },
  {
   "cell_type": "markdown",
   "id": "dcffc554-fb22-41d9-8546-90faac8ed80f",
   "metadata": {},
   "source": [
    "## Label Encoding"
   ]
  },
  {
   "cell_type": "code",
   "execution_count": null,
   "id": "a083e52e-6b4c-4f50-8b08-2d4f6af9b141",
   "metadata": {},
   "outputs": [],
   "source": [
    "from sklearn.preprocessing import LabelEncoder"
   ]
  },
  {
   "cell_type": "code",
   "execution_count": null,
   "id": "461170ef-5769-45c1-b6a3-93d31fbc7b30",
   "metadata": {},
   "outputs": [],
   "source": [
    "encoder = LabelEncoder()\n",
    "df['encodedWeather'] = encoder.fit_transform(df['Weather'])\n",
    "df['encodedArea'] = encoder.fit_transform(df['Route/Area'])"
   ]
  },
  {
   "cell_type": "code",
   "execution_count": null,
   "id": "12bfaa52-f655-4486-9334-714661af187d",
   "metadata": {},
   "outputs": [],
   "source": [
    "df.head()"
   ]
  },
  {
   "cell_type": "code",
   "execution_count": null,
   "id": "1b99396b-d5fd-45e6-a549-192098b64761",
   "metadata": {},
   "outputs": [],
   "source": [
    "df = df.drop(['Route/Area','Weather'], axis = 1)"
   ]
  },
  {
   "cell_type": "markdown",
   "id": "9fec87d5-39c8-4368-a9a1-69a49a909322",
   "metadata": {},
   "source": [
    "# Feature Selection"
   ]
  },
  {
   "cell_type": "code",
   "execution_count": null,
   "id": "20ce7f41-ab6b-41cf-8489-1f1afa1029af",
   "metadata": {},
   "outputs": [],
   "source": [
    "sns.heatmap(df.corr())"
   ]
  },
  {
   "cell_type": "code",
   "execution_count": null,
   "id": "e2290d69-762d-4931-8187-b256978ef508",
   "metadata": {},
   "outputs": [],
   "source": [
    "df.corr()"
   ]
  },
  {
   "cell_type": "code",
   "execution_count": null,
   "id": "b775dfbe",
   "metadata": {},
   "outputs": [],
   "source": [
    "df.head()"
   ]
  },
  {
   "cell_type": "code",
   "execution_count": null,
   "id": "ccf4fd85",
   "metadata": {},
   "outputs": [],
   "source": [
    "cols= cols_to_be_dropped = ['Throttle [%]','Motor Torque [Nm]','Longitudinal Acceleration [m/s^2]','Regenerative Braking Signal ','Battery Current [A]']"
   ]
  },
  {
   "cell_type": "raw",
   "id": "69772669",
   "metadata": {
    "vscode": {
     "languageId": "raw"
    }
   },
   "source": [
    "cols_to_be_dropped = ['Throttle [%]','Motor Torque [Nm]','Longitudinal Acceleration [m/s^2]','Regenerative Braking Signal ','Battery Current [A]']"
   ]
  },
  {
   "cell_type": "code",
   "execution_count": null,
   "id": "96c132c3-498b-4f78-99c6-7dad624adcdf",
   "metadata": {},
   "outputs": [],
   "source": [
    "df = df.drop(cols,axis=1)"
   ]
  },
  {
   "cell_type": "code",
   "execution_count": null,
   "id": "1002f59d",
   "metadata": {},
   "outputs": [],
   "source": [
    "df.shape"
   ]
  },
  {
   "cell_type": "markdown",
   "id": "90aa407f-d200-4984-b53c-f6fdcc8041b0",
   "metadata": {},
   "source": [
    "# Feature Scaling"
   ]
  },
  {
   "cell_type": "code",
   "execution_count": null,
   "id": "2bade634-9d02-476c-97a6-98c76843bf20",
   "metadata": {},
   "outputs": [],
   "source": [
    "x = df.drop('isAnomaly', axis=1)\n",
    "y = df['isAnomaly']"
   ]
  },
  {
   "cell_type": "code",
   "execution_count": null,
   "id": "417f0725-d37e-4511-bc6c-6c9c61f365a9",
   "metadata": {},
   "outputs": [],
   "source": [
    "# RobustScaler\n",
    "\n",
    "from sklearn.preprocessing import RobustScaler\n",
    "scaler = RobustScaler()\n",
    "x_scaled = pd.DataFrame(scaler.fit_transform(df), columns= df.columns)"
   ]
  },
  {
   "cell_type": "markdown",
   "id": "68a89077-9d10-4bd8-9901-3a7b05018c8e",
   "metadata": {},
   "source": [
    "# train_test_split"
   ]
  },
  {
   "cell_type": "code",
   "execution_count": null,
   "id": "6523cfc5-01d1-4565-989b-19b0345f31ee",
   "metadata": {},
   "outputs": [],
   "source": [
    "from sklearn.model_selection import train_test_split"
   ]
  },
  {
   "cell_type": "code",
   "execution_count": null,
   "id": "8634c123-5815-46bf-ac37-2c521263da26",
   "metadata": {},
   "outputs": [],
   "source": [
    "x_train, x_test, y_train, y_test = train_test_split(x_scaled,y, test_size=0.3, random_state=1, stratify=y)"
   ]
  },
  {
   "cell_type": "markdown",
   "id": "62136fde-adae-4ce1-ac0e-7eff860a136a",
   "metadata": {},
   "source": [
    "# Modelling"
   ]
  },
  {
   "cell_type": "code",
   "execution_count": null,
   "id": "9b5cc854-627a-486a-acfe-59ef18e58a98",
   "metadata": {},
   "outputs": [],
   "source": [
    "from sklearn.linear_model import LogisticRegression\n",
    "\n",
    "lr = LogisticRegression()\n",
    "lr.fit(x_train,y_train)"
   ]
  },
  {
   "cell_type": "code",
   "execution_count": null,
   "id": "20840174-a5f4-458e-9b5b-91096efe4fd6",
   "metadata": {},
   "outputs": [],
   "source": [
    "pred_train = lr.predict(x_train)\n",
    "pred_test = lr.predict(x_test)"
   ]
  },
  {
   "cell_type": "code",
   "execution_count": null,
   "id": "cac4b82d-64a4-43a6-9032-68f47c701ba3",
   "metadata": {},
   "outputs": [],
   "source": [
    "from sklearn.metrics import accuracy_score, classification_report, confusion_matrix, roc_auc_score"
   ]
  },
  {
   "cell_type": "code",
   "execution_count": null,
   "id": "5631a96b-60f9-4932-9472-4f57936cc304",
   "metadata": {},
   "outputs": [],
   "source": [
    "print(accuracy_score(y_train, pred_train))\n",
    "print(accuracy_score(y_test, pred_test))"
   ]
  },
  {
   "cell_type": "code",
   "execution_count": null,
   "id": "140aa810-e04f-4b9c-ae48-8e4b1f2871ba",
   "metadata": {},
   "outputs": [],
   "source": [
    "print(roc_auc_score(y_train, pred_train))\n",
    "print(roc_auc_score(y_test, pred_test))"
   ]
  },
  {
   "cell_type": "code",
   "execution_count": null,
   "id": "c8093959-e144-4aa8-a3b0-4bcabc96548b",
   "metadata": {},
   "outputs": [],
   "source": [
    "print(classification_report(y_train, pred_train))\n",
    "print(\"\\n\\n\")\n",
    "print(classification_report(y_test, pred_test))"
   ]
  },
  {
   "cell_type": "code",
   "execution_count": null,
   "id": "1f49fc26-0358-4fd7-85dd-77d450d8ea76",
   "metadata": {},
   "outputs": [],
   "source": [
    "print(confusion_matrix(y_train, pred_train))\n",
    "print(\"\\n\\n\")\n",
    "print(confusion_matrix(y_test, pred_test))"
   ]
  }
 ],
 "metadata": {
  "kernelspec": {
   "display_name": "Python 3 (ipykernel)",
   "language": "python",
   "name": "python3"
  },
  "language_info": {
   "codemirror_mode": {
    "name": "ipython",
    "version": 3
   },
   "file_extension": ".py",
   "mimetype": "text/x-python",
   "name": "python",
   "nbconvert_exporter": "python",
   "pygments_lexer": "ipython3",
   "version": "3.8.19"
  }
 },
 "nbformat": 4,
 "nbformat_minor": 5
}
